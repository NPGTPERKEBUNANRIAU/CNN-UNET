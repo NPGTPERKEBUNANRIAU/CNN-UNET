{
 "cells": [
  {
   "cell_type": "markdown",
   "id": "7dc29e9e-3181-4bb6-8f48-67271bbccfa2",
   "metadata": {},
   "source": [
    "# Augmentasi Multiple Layer"
   ]
  },
  {
   "cell_type": "code",
   "execution_count": 2,
   "id": "ae6ed48f-b36a-4348-8ac0-670740a29938",
   "metadata": {},
   "outputs": [
    {
     "name": "stderr",
     "output_type": "stream",
     "text": [
      "C:\\Users\\ASUS\\AppData\\Roaming\\Python\\Python312\\site-packages\\albumentations\\__init__.py:13: UserWarning: A new version of Albumentations is available: 2.0.8 (you have 1.4.15). Upgrade using: pip install -U albumentations. To disable automatic update checks, set the environment variable NO_ALBUMENTATIONS_UPDATE to 1.\n",
      "  check_for_updates()\n"
     ]
    }
   ],
   "source": [
    "import os \n",
    "import cv2 \n",
    "from tqdm import tqdm \n",
    "from glob import glob \n",
    "from albumentations import Transpose, RandomRotate90, GridDistortion, HorizontalFlip, VerticalFlip\n",
    "import rasterio as rio \n",
    "from osgeo import gdal\n",
    "import numpy as np \n",
    "from numpy import moveaxis\n",
    "from numpy import asarray \n",
    "from numpy import expand_dims \n",
    "from osgeo import gdal_array "
   ]
  },
  {
   "cell_type": "markdown",
   "id": "02c7d442-d093-439c-afc4-da331462714b",
   "metadata": {},
   "source": [
    "### Load data"
   ]
  },
  {
   "cell_type": "code",
   "execution_count": null,
   "id": "81cb405b-e688-4037-b581-74ab0b44d1ad",
   "metadata": {},
   "outputs": [],
   "source": [
    "def load_data(path): \n",
    "    images = sorted(glob(os.path.join(path, \"Image/*\")))      \n",
    "    masks = sorted(glob(os.path.join(path, \"Mask/*\"))) \n",
    "    return images, masks "
   ]
  },
  {
   "cell_type": "code",
   "execution_count": null,
   "id": "c7119739-2434-4c6b-a6c2-c1e5d69de924",
   "metadata": {},
   "outputs": [],
   "source": [
    "#Buat direktori penyimpanan\n",
    "def create_dir(path): \n",
    "    if not os.path.exists(path): \n",
    "        os.makedirs(path) "
   ]
  },
  {
   "cell_type": "markdown",
   "id": "9690ec94-c31a-42d9-8cd4-5d31d8b65d98",
   "metadata": {},
   "source": [
    "### Fungsi Augmentasi Data"
   ]
  },
  {
   "cell_type": "code",
   "execution_count": null,
   "id": "a36a7246-aa77-4361-9b87-dde15fce0ce7",
   "metadata": {},
   "outputs": [],
   "source": [
    "def augment_data(images, masks, save_path, augment=True): \n",
    "    H = 1024\n",
    "    W = 1024\n",
    "\n",
    "    for x, y in tqdm(zip(images, masks), total=len(images)): \n",
    "        name = x.split(\"/\")[-1].split(\".\") \n",
    "\n",
    "        \"\"\" Extracting the name and extension of the image and the mask. \"\"\" \n",
    "\n",
    "        image_name = name[0] \n",
    "        image_extn = name[1] \n",
    "\n",
    "        \n",
    "        name = y.split(\"/\")[-1].split(\".\") \n",
    "        mask_name = name[0] \n",
    "        mask_extn = name[1] \n",
    "\n",
    "\n",
    "        \"\"\" Reading image and mask. \"\"\" \n",
    "\n",
    "        xa = gdal.Open(x) \n",
    "        t0 = rio.open(x) \n",
    "        t1 = rio.open(y) \n",
    "        a1 = xa.GetRasterBand(1).ReadAsArray() \n",
    "        a2 = xa.GetRasterBand(2).ReadAsArray() \n",
    "        a3 = xa.GetRasterBand(3).ReadAsArray()\n",
    "        a4 = xa.GetRasterBand(4).ReadAsArray()\n",
    "\n",
    "        x = np.dstack((a1,a2,a3,a4))\n",
    "        y = gdal.Open(y).ReadAsArray() \n",
    "        y = expand_dims(y, axis=2) \n",
    "\n",
    "\n",
    "        \"\"\" metadata \"\"\" \n",
    "\n",
    "        meta2 = t0.meta \n",
    "        meta3 = t1.meta \n",
    "        \n",
    "\n",
    "        meta2.update({'driver':'GTiff', \n",
    "                 'width':1024,\n",
    "                 'height':1024,\n",
    "                 'count':4, \n",
    "                 'dtype':'float32', \n",
    "                 'nodata':-32768}) \n",
    "\n",
    "         \n",
    "        meta3.update({'driver':'GTiff', \n",
    "                 'width':1024,\n",
    "                 'height':1024,\n",
    "                 'count':1, \n",
    "                 'dtype':'int16', \n",
    "                 'nodata':-32768}) \n",
    "        \n",
    "\n",
    "        \"\"\" Augmentation \"\"\" \n",
    "\n",
    "        if augment == True: \n",
    "            \n",
    "            aug = Transpose(p=1.0) \n",
    "            augmented = aug(image=x, mask=y) \n",
    "            x1 = augmented[\"image\"] \n",
    "            y1 = augmented['mask'] \n",
    "\n",
    "            aug = RandomRotate90(p=1.0) \n",
    "            augmented = aug(image=x, mask=y) \n",
    "            x2 = augmented[\"image\"] \n",
    "            y2 = augmented['mask'] \n",
    "\n",
    "\n",
    "            aug = GridDistortion(p=1.0) \n",
    "            augmented = aug(image=x, mask=y) \n",
    "            x3 = augmented[\"image\"] \n",
    "            y3 = augmented['mask'] \n",
    "\n",
    " \n",
    "            aug = HorizontalFlip(p=1.0) \n",
    "            augmented = aug(image=x, mask=y) \n",
    "            x4 = augmented[\"image\"] \n",
    "            y4 = augmented['mask'] \n",
    "\n",
    " \n",
    "            aug = VerticalFlip(p=1.0) \n",
    "            augmented = aug(image=x, mask=y) \n",
    "            x5 = augmented[\"image\"] \n",
    "            y5 = augmented['mask'] \n",
    "\n",
    "            save_images = [x1, x2, x3, x4, x5] \n",
    "            save_masks =  [y1, y2, y3, y4, y5] \n",
    "\n",
    " \n",
    "        else: \n",
    "\n",
    "            save_images = [x] \n",
    "            save_masks = [y] \n",
    "\n",
    " \n",
    "        \"\"\" Saving the image and mask. \"\"\" \n",
    "\n",
    "        idx = 0 \n",
    "        for i, m in zip(save_images, save_masks): \n",
    "            i = cv2.resize(i, (W, H)) \n",
    "            m = cv2.resize(m, (W, H)) \n",
    "\n",
    "\n",
    "            if len(images) == 1: \n",
    "                tmp_img_name = f\"{image_name}.{image_extn}\" \n",
    "                tmp_mask_name = f\"{mask_name}.{mask_extn}\" \n",
    " \n",
    "            else: \n",
    "                tmp_img_name = f\"{image_name}_{idx}.{image_extn}\" \n",
    "                tmp_mask_name = f\"{mask_name}_{idx}.{mask_extn}\" \n",
    "\n",
    " \n",
    "            image_path = os.path.join(save_path, \"image\", tmp_img_name) \n",
    "            mask_path = os.path.join(save_path, \"mask\", tmp_mask_name) \n",
    "            \n",
    "\n",
    "            i2 = np.rollaxis(i, axis = 2) \n",
    "            with rio.open(image_path,'w',**meta2) as dst: \n",
    "                dst.write(i2) \n",
    "            with rio.open(mask_path,'w',**meta3) as dst: \n",
    "                dst.write(m, 1)  \n",
    "            idx += 1 "
   ]
  },
  {
   "cell_type": "markdown",
   "id": "3940b336-c39d-445b-9198-d09c2b8e8800",
   "metadata": {},
   "source": [
    "### Setting folder penyimpanan data"
   ]
  },
  {
   "cell_type": "code",
   "execution_count": null,
   "id": "3cf3080b-0761-4f39-9a70-93d4cd446297",
   "metadata": {},
   "outputs": [],
   "source": [
    "path = \"D:/Kanwil Riau/Updating NPGT Perkebunan/OLAH TIM/RIAU/Run\" \n",
    "images, masks = load_data(path) \n",
    "print(f\"Original Images: {len(images)} - Original Masks: {len(masks)}\") "
   ]
  },
  {
   "cell_type": "code",
   "execution_count": null,
   "id": "b27e03ed-b8fa-4e9d-901f-598813358f48",
   "metadata": {},
   "outputs": [],
   "source": [
    "### Proses augmentasi\n",
    "augment_data(images, masks, \"test\", augment=True) "
   ]
  }
 ],
 "metadata": {
  "kernelspec": {
   "display_name": "base",
   "language": "python",
   "name": "python3"
  },
  "language_info": {
   "codemirror_mode": {
    "name": "ipython",
    "version": 3
   },
   "file_extension": ".py",
   "mimetype": "text/x-python",
   "name": "python",
   "nbconvert_exporter": "python",
   "pygments_lexer": "ipython3",
   "version": "3.12.4"
  }
 },
 "nbformat": 4,
 "nbformat_minor": 5
}
